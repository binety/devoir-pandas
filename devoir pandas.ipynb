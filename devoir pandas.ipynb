{
 "cells": [
  {
   "cell_type": "code",
   "execution_count": 17,
   "id": "ff81daee-5b72-4288-8dbf-a176787ed92c",
   "metadata": {},
   "outputs": [],
   "source": [
    "import numpy as np\n",
    "import pandas as pd \n",
    " "
   ]
  },
  {
   "cell_type": "code",
   "execution_count": 24,
   "id": "6b64ee4d-37b7-4f53-9f07-c7189b07e350",
   "metadata": {},
   "outputs": [],
   "source": [
    " #Définir les noms des colonnes\n",
    "column_names = ['Pregnancies', 'Glucose', 'BloodPressure', 'SkinThickness',\n",
    "                'Insulin', 'BMI', 'DiabetesPedigreeFunction', 'Age', 'Outcome']\n"
   ]
  },
  {
   "cell_type": "code",
   "execution_count": 30,
   "id": "a5265df1-fa19-423a-9a81-4bd1e7b408fa",
   "metadata": {},
   "outputs": [],
   "source": [
    " #Charger les données avec np.loadtxt (en ignorant le header)\n",
    "data = np.loadtxt('diabetes.csv', delimiter=',', skiprows=1)\n"
   ]
  },
  {
   "cell_type": "code",
   "execution_count": 31,
   "id": "4b934bb0-cbc1-4fa5-9ef7-467d6adfc6f1",
   "metadata": {},
   "outputs": [],
   "source": [
    "# Convertir en DataFrame pandas pour faciliter l’analyse ensuite\n",
    "df = pd.DataFrame(data, columns=column_names)\n"
   ]
  },
  {
   "cell_type": "code",
   "execution_count": 32,
   "id": "0e6974dc-c687-49af-a90d-f12f28ad2173",
   "metadata": {},
   "outputs": [],
   "source": [
    "# Séparer features et target\n",
    "features = df.iloc[:, 0:8]   # colonnes 0 à 7\n",
    "target = df['Outcome']       # colonne Outcome"
   ]
  },
  {
   "cell_type": "code",
   "execution_count": 34,
   "id": "a1f41408-306c-434f-89bd-13f54fa929c0",
   "metadata": {},
   "outputs": [
    {
     "data": {
      "text/plain": [
       "0      1.0\n",
       "1      0.0\n",
       "2      1.0\n",
       "3      0.0\n",
       "4      1.0\n",
       "      ... \n",
       "763    0.0\n",
       "764    0.0\n",
       "765    0.0\n",
       "766    1.0\n",
       "767    0.0\n",
       "Name: Outcome, Length: 768, dtype: float64"
      ]
     },
     "execution_count": 34,
     "metadata": {},
     "output_type": "execute_result"
    }
   ],
   "source": [
    "target"
   ]
  },
  {
   "cell_type": "code",
   "execution_count": null,
   "id": "ed290b03-8c0d-4bca-b7bb-173e726a810e",
   "metadata": {},
   "outputs": [],
   "source": [
    "# Vérification\n",
    "print(\"Features shape:\", features.shape)\n",
    "print(\"Target shape:\", target.shape)"
   ]
  },
  {
   "cell_type": "code",
   "execution_count": 37,
   "id": "bc978629-d598-4401-82e4-61b9f3851fd9",
   "metadata": {},
   "outputs": [
    {
     "data": {
      "text/plain": [
       "0      1.0\n",
       "1      0.0\n",
       "2      1.0\n",
       "3      0.0\n",
       "4      1.0\n",
       "      ... \n",
       "763    0.0\n",
       "764    0.0\n",
       "765    0.0\n",
       "766    1.0\n",
       "767    0.0\n",
       "Name: Outcome, Length: 768, dtype: float64"
      ]
     },
     "execution_count": 37,
     "metadata": {},
     "output_type": "execute_result"
    }
   ],
   "source": [
    "target "
   ]
  },
  {
   "cell_type": "code",
   "execution_count": 38,
   "id": "3d599e4a-b62c-4eaf-9c43-1eb1c1edbaa9",
   "metadata": {},
   "outputs": [],
   "source": [
    "# Chargement des données (si ce n'est pas déjà fait)\n",
    "df = pd.read_csv('diabetes.csv')\n"
   ]
  },
  {
   "cell_type": "code",
   "execution_count": 39,
   "id": "43a41ea8-cb3c-4440-8a09-c8dadceca4b9",
   "metadata": {},
   "outputs": [
    {
     "name": "stdout",
     "output_type": "stream",
     "text": [
      "Dimensions du dataset : (768, 9)\n"
     ]
    }
   ],
   "source": [
    "# 1. Afficher les dimensions\n",
    "print(\"Dimensions du dataset :\", df.shape)\n",
    "# (nombre d'observations, nombre de variables)"
   ]
  },
  {
   "cell_type": "code",
   "execution_count": null,
   "id": "fd229774-3d7d-44e8-9497-a7056687c3bc",
   "metadata": {},
   "outputs": [],
   "source": []
  }
 ],
 "metadata": {
  "kernelspec": {
   "display_name": "Python 3 (ipykernel)",
   "language": "python",
   "name": "python3"
  },
  "language_info": {
   "codemirror_mode": {
    "name": "ipython",
    "version": 3
   },
   "file_extension": ".py",
   "mimetype": "text/x-python",
   "name": "python",
   "nbconvert_exporter": "python",
   "pygments_lexer": "ipython3",
   "version": "3.12.7"
  }
 },
 "nbformat": 4,
 "nbformat_minor": 5
}
